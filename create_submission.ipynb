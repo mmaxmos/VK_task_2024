{
 "cells": [
  {
   "cell_type": "markdown",
   "id": "db7866f5-7482-4b68-92b0-306fac09e665",
   "metadata": {},
   "source": [
    "## Код для предсказания классов на test и создания файла submission.csv"
   ]
  },
  {
   "cell_type": "code",
   "execution_count": 5,
   "id": "309d29ff-c418-4f8e-857a-7984f5a70b2f",
   "metadata": {},
   "outputs": [],
   "source": [
    "from scipy.fft import fft\n",
    "from sklearn.preprocessing import StandardScaler\n",
    "import pandas as pd\n",
    "import numpy as np\n",
    "\n",
    "def generate_features(df): \n",
    "    '''\n",
    "    Функция для сборки признаков из временных рядов\n",
    "    Вход: Датафрейм с 2 временными рядами (values и dates)\n",
    "    Выход: Датафрейм с извлеченными признаками (mean, std, min, max, median, value_range, fft_real_sum, fft_imag_sum, date_range)\n",
    "    '''\n",
    "    feature_list = []\n",
    "    for _, row in df.iterrows():\n",
    "        values = row['values']\n",
    "        \n",
    "        # Статистические признаки временного ряда\n",
    "        features = {\n",
    "            'id': row['id'],\n",
    "            'mean': np.mean(values),\n",
    "            'std': np.std(values),\n",
    "            'min': np.min(values),\n",
    "            'max': np.max(values),\n",
    "            'median': np.median(values),\n",
    "            'value_range': np.max(values) - np.min(values),  # Размах\n",
    "            'fft_real_sum': np.sum(np.real(fft(values))),\n",
    "            'fft_imag_sum': np.sum(np.imag(fft(values))),\n",
    "        }\n",
    "        \n",
    "        # Признаки на основе даты\n",
    "        dates = pd.to_datetime(row['dates'])  # Преобразование дат в формат datetime\n",
    "        features.update({\n",
    "            'date_range': (dates.max() - dates.min()).days  # Длительность ряда в днях\n",
    "        })\n",
    "        \n",
    "        feature_list.append(features)\n",
    "    \n",
    "    return pd.DataFrame(feature_list)"
   ]
  },
  {
   "cell_type": "code",
   "execution_count": 6,
   "id": "c0ad7535-117a-4b5f-acb6-4f36f09ec2f6",
   "metadata": {},
   "outputs": [],
   "source": [
    "import joblib\n",
    "import numpy as np\n",
    "\n",
    "# Загрузка модели и скейлера\n",
    "model = joblib.load('trained_model.pkl')\n",
    "scaler = joblib.load('scaler.pkl')\n",
    "\n",
    "# Загрузка тестовой выборки и генерация признаков\n",
    "test = pd.read_parquet('test.parquet')\n",
    "\n",
    "# Генерация признаков и масштабирование\n",
    "test_features = generate_features(test)\n",
    "test_features = test_features.fillna(0)\n",
    "test_features_scaled = scaler.transform(test_features.drop(columns=['id']))\n",
    "\n",
    "# Предсказания\n",
    "predictions = model.predict_proba(test_features_scaled)[:, 1]\n",
    "\n",
    "# Создание файла submission.csv\n",
    "submission = pd.DataFrame({'id': test_features['id'], 'score': predictions})\n",
    "submission.to_csv('submission.csv', index=False)"
   ]
  },
  {
   "cell_type": "code",
   "execution_count": null,
   "id": "b6297b5f-7440-45e9-9ba5-4a813967a92d",
   "metadata": {},
   "outputs": [],
   "source": []
  }
 ],
 "metadata": {
  "kernelspec": {
   "display_name": "Python 3 (ipykernel)",
   "language": "python",
   "name": "python3"
  },
  "language_info": {
   "codemirror_mode": {
    "name": "ipython",
    "version": 3
   },
   "file_extension": ".py",
   "mimetype": "text/x-python",
   "name": "python",
   "nbconvert_exporter": "python",
   "pygments_lexer": "ipython3",
   "version": "3.12.6"
  }
 },
 "nbformat": 4,
 "nbformat_minor": 5
}
